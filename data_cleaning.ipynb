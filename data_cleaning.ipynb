{
 "cells": [
  {
   "cell_type": "code",
   "execution_count": 65,
   "id": "19b43815-41ce-45f5-b21c-07b6d5e46364",
   "metadata": {},
   "outputs": [],
   "source": [
    "# Import dependencies\n",
    "from pymongo import MongoClient\n",
    "from pprint import pprint\n"
   ]
  },
  {
   "cell_type": "code",
   "execution_count": 66,
   "id": "ae0126f2-7d35-417b-b0fa-d5bdb24114b9",
   "metadata": {},
   "outputs": [],
   "source": [
    "# Create an instance of MongoClient\n",
    "mongo = MongoClient(port=27017)\n"
   ]
  },
  {
   "cell_type": "code",
   "execution_count": 67,
   "id": "e4a19233-42e4-45d1-b7b5-529d78dffbdf",
   "metadata": {},
   "outputs": [
    {
     "name": "stdout",
     "output_type": "stream",
     "text": [
      "['admin', 'config', 'local', 'project_3', 'uk_food']\n"
     ]
    }
   ],
   "source": [
    "# confirm that the \"project_3\" database is in MongoDB\n",
    "print(mongo.list_database_names())"
   ]
  },
  {
   "cell_type": "code",
   "execution_count": 68,
   "id": "544002a9-5d65-4a19-9123-9e7acc8b1a18",
   "metadata": {},
   "outputs": [],
   "source": [
    "# assign the database to a variable name\n",
    "db = mongo['project_3']"
   ]
  },
  {
   "cell_type": "code",
   "execution_count": 69,
   "id": "c8d81afe-80c1-4212-8821-07844a138350",
   "metadata": {},
   "outputs": [
    {
     "name": "stdout",
     "output_type": "stream",
     "text": [
      "['cleaned_tsunami', 'tsunami_data', 'earthquake_data', 'cleaned_volcano', 'cleaned_earthquake', 'volcano_data']\n"
     ]
    }
   ],
   "source": [
    "# review the collections in our database\n",
    "print(db.list_collection_names())"
   ]
  },
  {
   "cell_type": "code",
   "execution_count": 70,
   "id": "a8dcdbd0-f2a3-4810-bb51-0b70ee7a81e1",
   "metadata": {},
   "outputs": [],
   "source": [
    "# Assign each collection to a variable\n",
    "volcano = db[\"volcano_data\"]\n",
    "earthquake = db[\"earthquake_data\"]\n",
    "tsunami = db[\"tsunami_data\"]\n",
    "cleaned_earthquake = db[\"cleaned_earthquake\"]\n",
    "cleaned_volcano = db[\"cleaned_volcano\"]\n",
    "cleaned_tsunami = db[\"cleaned_tsunami\"]\n"
   ]
  },
  {
   "cell_type": "code",
   "execution_count": 71,
   "id": "f829674c-411e-44f9-9622-a30c42bf85c3",
   "metadata": {},
   "outputs": [
    {
     "name": "stdout",
     "output_type": "stream",
     "text": [
      "{'_id': ObjectId('66a19ccc5a4773fdb47c0e7b'),\n",
      " 'country': 'New Zealand',\n",
      " 'day': 17,\n",
      " 'deaths': 1,\n",
      " 'deathsAmountOrder': 1,\n",
      " 'deathsAmountOrderTotal': 1,\n",
      " 'deathsTotal': 1,\n",
      " 'elevation': 516,\n",
      " 'id': 4521,\n",
      " 'latitude': -29.27,\n",
      " 'location': 'Kermadec Is',\n",
      " 'longitude': -177.92,\n",
      " 'month': 3,\n",
      " 'morphology': 'Stratovolcano',\n",
      " 'name': 'Raoul Island',\n",
      " 'publish': False,\n",
      " 'significant': True,\n",
      " 'status': 'Historical',\n",
      " 'timeErupt': 'D1',\n",
      " 'volcanoLocationId': 40203,\n",
      " 'volcanoLocationNewNum': 242030,\n",
      " 'volcanoLocationNum': '0402-03=',\n",
      " 'year': 2006}\n"
     ]
    }
   ],
   "source": [
    "pprint(volcano.find_one())"
   ]
  },
  {
   "cell_type": "code",
   "execution_count": 72,
   "id": "56a91b4b-abdc-4b07-a19d-e8e0faf1a653",
   "metadata": {},
   "outputs": [
    {
     "name": "stdout",
     "output_type": "stream",
     "text": [
      "{'_id': ObjectId('66a19ccc5a4773fdb47c0e7b'),\n",
      " 'country': 'New Zealand',\n",
      " 'day': 17,\n",
      " 'deathsTotal': 1,\n",
      " 'elevation': 516,\n",
      " 'latitude': -29.27,\n",
      " 'location': 'Kermadec Is',\n",
      " 'longitude': -177.92,\n",
      " 'month': 3,\n",
      " 'morphology': 'Stratovolcano',\n",
      " 'year': 2006}\n",
      "{'_id': ObjectId('66a19ccc5a4773fdb47c0e7c'),\n",
      " 'country': 'Chile',\n",
      " 'day': 2,\n",
      " 'deathsTotal': 1,\n",
      " 'elevation': 1122,\n",
      " 'latitude': -42.833,\n",
      " 'location': 'Chile-S',\n",
      " 'longitude': -72.646,\n",
      " 'month': 5,\n",
      " 'morphology': 'Caldera',\n",
      " 'year': 2008}\n"
     ]
    }
   ],
   "source": [
    "# Select useable volcano fields from volcano collection\n",
    "query = {}\n",
    "fields = {'year': 1, 'month': 1, 'day': 1, 'location': 1, 'country': 1,\n",
    "          'latitude': 1, 'longitude': 1, 'elevation': 1, 'morphology': 1,\n",
    "          'vei': 1, 'deathsTotal': 1, 'damageAmountOrderTotal': 1,\n",
    "          'housesDestroyedAmountOrderTotal': 1}\n",
    "v_results = volcano.find(query, fields)\n",
    "for i in range(2):\n",
    "    pprint(v_results[i])"
   ]
  },
  {
   "cell_type": "code",
   "execution_count": 73,
   "id": "6b1c5a68-1072-43f8-8730-4db48a302a37",
   "metadata": {},
   "outputs": [
    {
     "name": "stdout",
     "output_type": "stream",
     "text": [
      "{'_id': ObjectId('66a19d0049e2bf6624a72644'),\n",
      " 'country': 'CHINA',\n",
      " 'damageAmountOrderTotal': 1,\n",
      " 'day': 7,\n",
      " 'eqDepth': 33,\n",
      " 'eqMagnitude': 6.3,\n",
      " 'housesDestroyedAmountOrderTotal': 2,\n",
      " 'latitude': 26.856,\n",
      " 'longitude': 97.238,\n",
      " 'month': 6,\n",
      " 'year': 2000}\n",
      "{'_id': ObjectId('66a19d0049e2bf6624a72645'),\n",
      " 'country': 'INDIA',\n",
      " 'damageAmountOrderTotal': 1,\n",
      " 'day': 3,\n",
      " 'eqDepth': 33,\n",
      " 'eqMagnitude': 4.6,\n",
      " 'latitude': 22.132,\n",
      " 'longitude': 92.771,\n",
      " 'month': 1,\n",
      " 'year': 2000}\n"
     ]
    }
   ],
   "source": [
    "# Select useable earthquake fields from earthquake collection\n",
    "query1 = {}\n",
    "fields1 = {'year': 1, 'month': 1, 'day': 1, 'locationName': 1, 'country': 1,\n",
    "          'latitude': 1, 'longitude': 1, 'elevation': 1, 'morphology': 1,\n",
    "          'eqDepth': 1, 'eqMagnitude': 1, 'deathsTotal': 1, 'damageAmountOrderTotal': 1,\n",
    "          'housesDestroyedAmountOrderTotal': 1}\n",
    "e_results = earthquake.find(query1, fields1)\n",
    "for i in range(2):\n",
    "    pprint(e_results[i])"
   ]
  },
  {
   "cell_type": "code",
   "execution_count": 74,
   "id": "c46698eb-ca4b-489f-8331-8a18ddedef73",
   "metadata": {},
   "outputs": [
    {
     "name": "stdout",
     "output_type": "stream",
     "text": [
      "{'_id': ObjectId('66a19d12b6b79ae31b0d88f1'),\n",
      " 'country': 'JAPAN',\n",
      " 'damageAmountOrderTotal': 1,\n",
      " 'day': 1,\n",
      " 'deathsTotal': 1,\n",
      " 'latitude': 34.221,\n",
      " 'longitude': 139.131,\n",
      " 'maxWaterHeight': 0.07,\n",
      " 'month': 7,\n",
      " 'numRunups': 4,\n",
      " 'year': 2000}\n",
      "{'_id': ObjectId('66a19d12b6b79ae31b0d88f2'),\n",
      " 'country': 'AUSTRALIA',\n",
      " 'day': 18,\n",
      " 'latitude': -13.802,\n",
      " 'longitude': 97.453,\n",
      " 'maxWaterHeight': 0.3,\n",
      " 'month': 6,\n",
      " 'numRunups': 1,\n",
      " 'year': 2000}\n"
     ]
    }
   ],
   "source": [
    "# Select useable tsunami fields from tsunami collection\n",
    "query2 = {}\n",
    "fields2 = {'year': 1, 'month': 1, 'day': 1, 'locationName': 1, 'country': 1,\n",
    "          'latitude': 1, 'longitude': 1, 'elevation': 1, 'morphology': 1,\n",
    "          'maxWaterHeight': 1, 'numRunups': 1, 'deathsTotal': 1, 'damageAmountOrderTotal': 1,\n",
    "          'housesDestroyedAmountOrderTotal': 1}\n",
    "t_results = tsunami.find(query2, fields2)\n",
    "for i in range(2):\n",
    "    pprint(t_results[i])"
   ]
  },
  {
   "cell_type": "code",
   "execution_count": 75,
   "id": "67abaf41-db51-4485-9434-fdc0104dd2ab",
   "metadata": {},
   "outputs": [
    {
     "ename": "BulkWriteError",
     "evalue": "batch op errors occurred, full error: {'writeErrors': [{'index': 0, 'code': 11000, 'errmsg': \"E11000 duplicate key error collection: project_3.cleaned_earthquake index: _id_ dup key: { _id: ObjectId('66a19d0049e2bf6624a72644') }\", 'keyPattern': {'_id': 1}, 'keyValue': {'_id': ObjectId('66a19d0049e2bf6624a72644')}, 'op': {'_id': ObjectId('66a19d0049e2bf6624a72644'), 'year': 2000, 'month': 6, 'day': 7, 'latitude': 26.856, 'longitude': 97.238, 'eqDepth': 33, 'eqMagnitude': 6.3, 'damageAmountOrderTotal': 1, 'housesDestroyedAmountOrderTotal': 2, 'country': 'CHINA'}}], 'writeConcernErrors': [], 'nInserted': 0, 'nUpserted': 0, 'nMatched': 0, 'nModified': 0, 'nRemoved': 0, 'upserted': []}",
     "output_type": "error",
     "traceback": [
      "\u001b[1;31m---------------------------------------------------------------------------\u001b[0m",
      "\u001b[1;31mBulkWriteError\u001b[0m                            Traceback (most recent call last)",
      "Cell \u001b[1;32mIn[75], line 2\u001b[0m\n\u001b[0;32m      1\u001b[0m \u001b[38;5;66;03m# Insert cleaned data into a new collection\u001b[39;00m\n\u001b[1;32m----> 2\u001b[0m \u001b[43mcleaned_earthquake\u001b[49m\u001b[38;5;241;43m.\u001b[39;49m\u001b[43minsert_many\u001b[49m\u001b[43m(\u001b[49m\u001b[43me_results\u001b[49m\u001b[43m)\u001b[49m\n",
      "File \u001b[1;32m~\\anaconda3\\envs\\dev\\lib\\site-packages\\pymongo\\_csot.py:108\u001b[0m, in \u001b[0;36mapply.<locals>.csot_wrapper\u001b[1;34m(self, *args, **kwargs)\u001b[0m\n\u001b[0;32m    106\u001b[0m         \u001b[38;5;28;01mwith\u001b[39;00m _TimeoutContext(timeout):\n\u001b[0;32m    107\u001b[0m             \u001b[38;5;28;01mreturn\u001b[39;00m func(\u001b[38;5;28mself\u001b[39m, \u001b[38;5;241m*\u001b[39margs, \u001b[38;5;241m*\u001b[39m\u001b[38;5;241m*\u001b[39mkwargs)\n\u001b[1;32m--> 108\u001b[0m \u001b[38;5;28;01mreturn\u001b[39;00m func(\u001b[38;5;28mself\u001b[39m, \u001b[38;5;241m*\u001b[39margs, \u001b[38;5;241m*\u001b[39m\u001b[38;5;241m*\u001b[39mkwargs)\n",
      "File \u001b[1;32m~\\anaconda3\\envs\\dev\\lib\\site-packages\\pymongo\\collection.py:742\u001b[0m, in \u001b[0;36mCollection.insert_many\u001b[1;34m(self, documents, ordered, bypass_document_validation, session, comment)\u001b[0m\n\u001b[0;32m    740\u001b[0m blk \u001b[38;5;241m=\u001b[39m _Bulk(\u001b[38;5;28mself\u001b[39m, ordered, bypass_document_validation, comment\u001b[38;5;241m=\u001b[39mcomment)\n\u001b[0;32m    741\u001b[0m blk\u001b[38;5;241m.\u001b[39mops \u001b[38;5;241m=\u001b[39m \u001b[38;5;28mlist\u001b[39m(gen())\n\u001b[1;32m--> 742\u001b[0m \u001b[43mblk\u001b[49m\u001b[38;5;241;43m.\u001b[39;49m\u001b[43mexecute\u001b[49m\u001b[43m(\u001b[49m\u001b[43mwrite_concern\u001b[49m\u001b[43m,\u001b[49m\u001b[43m \u001b[49m\u001b[43msession\u001b[49m\u001b[43m,\u001b[49m\u001b[43m \u001b[49m\u001b[43m_Op\u001b[49m\u001b[38;5;241;43m.\u001b[39;49m\u001b[43mINSERT\u001b[49m\u001b[43m)\u001b[49m\n\u001b[0;32m    743\u001b[0m \u001b[38;5;28;01mreturn\u001b[39;00m InsertManyResult(inserted_ids, write_concern\u001b[38;5;241m.\u001b[39macknowledged)\n",
      "File \u001b[1;32m~\\anaconda3\\envs\\dev\\lib\\site-packages\\pymongo\\bulk.py:595\u001b[0m, in \u001b[0;36m_Bulk.execute\u001b[1;34m(self, write_concern, session, operation)\u001b[0m\n\u001b[0;32m    593\u001b[0m         \u001b[38;5;28;01mreturn\u001b[39;00m \u001b[38;5;28;01mNone\u001b[39;00m\n\u001b[0;32m    594\u001b[0m \u001b[38;5;28;01melse\u001b[39;00m:\n\u001b[1;32m--> 595\u001b[0m     \u001b[38;5;28;01mreturn\u001b[39;00m \u001b[38;5;28;43mself\u001b[39;49m\u001b[38;5;241;43m.\u001b[39;49m\u001b[43mexecute_command\u001b[49m\u001b[43m(\u001b[49m\u001b[43mgenerator\u001b[49m\u001b[43m,\u001b[49m\u001b[43m \u001b[49m\u001b[43mwrite_concern\u001b[49m\u001b[43m,\u001b[49m\u001b[43m \u001b[49m\u001b[43msession\u001b[49m\u001b[43m,\u001b[49m\u001b[43m \u001b[49m\u001b[43moperation\u001b[49m\u001b[43m)\u001b[49m\n",
      "File \u001b[1;32m~\\anaconda3\\envs\\dev\\lib\\site-packages\\pymongo\\bulk.py:462\u001b[0m, in \u001b[0;36m_Bulk.execute_command\u001b[1;34m(self, generator, write_concern, session, operation)\u001b[0m\n\u001b[0;32m    452\u001b[0m client\u001b[38;5;241m.\u001b[39m_retryable_write(\n\u001b[0;32m    453\u001b[0m     \u001b[38;5;28mself\u001b[39m\u001b[38;5;241m.\u001b[39mis_retryable,\n\u001b[0;32m    454\u001b[0m     retryable_bulk,\n\u001b[1;32m   (...)\u001b[0m\n\u001b[0;32m    458\u001b[0m     operation_id\u001b[38;5;241m=\u001b[39mop_id,\n\u001b[0;32m    459\u001b[0m )\n\u001b[0;32m    461\u001b[0m \u001b[38;5;28;01mif\u001b[39;00m full_result[\u001b[38;5;124m\"\u001b[39m\u001b[38;5;124mwriteErrors\u001b[39m\u001b[38;5;124m\"\u001b[39m] \u001b[38;5;129;01mor\u001b[39;00m full_result[\u001b[38;5;124m\"\u001b[39m\u001b[38;5;124mwriteConcernErrors\u001b[39m\u001b[38;5;124m\"\u001b[39m]:\n\u001b[1;32m--> 462\u001b[0m     \u001b[43m_raise_bulk_write_error\u001b[49m\u001b[43m(\u001b[49m\u001b[43mfull_result\u001b[49m\u001b[43m)\u001b[49m\n\u001b[0;32m    463\u001b[0m \u001b[38;5;28;01mreturn\u001b[39;00m full_result\n",
      "File \u001b[1;32m~\\anaconda3\\envs\\dev\\lib\\site-packages\\pymongo\\bulk.py:165\u001b[0m, in \u001b[0;36m_raise_bulk_write_error\u001b[1;34m(full_result)\u001b[0m\n\u001b[0;32m    159\u001b[0m         errmsg \u001b[38;5;241m=\u001b[39m (\n\u001b[0;32m    160\u001b[0m             \u001b[38;5;124m\"\u001b[39m\u001b[38;5;124mThis MongoDB deployment does not support \u001b[39m\u001b[38;5;124m\"\u001b[39m\n\u001b[0;32m    161\u001b[0m             \u001b[38;5;124m\"\u001b[39m\u001b[38;5;124mretryable writes. Please add retryWrites=false \u001b[39m\u001b[38;5;124m\"\u001b[39m\n\u001b[0;32m    162\u001b[0m             \u001b[38;5;124m\"\u001b[39m\u001b[38;5;124mto your connection string.\u001b[39m\u001b[38;5;124m\"\u001b[39m\n\u001b[0;32m    163\u001b[0m         )\n\u001b[0;32m    164\u001b[0m         \u001b[38;5;28;01mraise\u001b[39;00m OperationFailure(errmsg, code, full_result)\n\u001b[1;32m--> 165\u001b[0m \u001b[38;5;28;01mraise\u001b[39;00m BulkWriteError(full_result)\n",
      "\u001b[1;31mBulkWriteError\u001b[0m: batch op errors occurred, full error: {'writeErrors': [{'index': 0, 'code': 11000, 'errmsg': \"E11000 duplicate key error collection: project_3.cleaned_earthquake index: _id_ dup key: { _id: ObjectId('66a19d0049e2bf6624a72644') }\", 'keyPattern': {'_id': 1}, 'keyValue': {'_id': ObjectId('66a19d0049e2bf6624a72644')}, 'op': {'_id': ObjectId('66a19d0049e2bf6624a72644'), 'year': 2000, 'month': 6, 'day': 7, 'latitude': 26.856, 'longitude': 97.238, 'eqDepth': 33, 'eqMagnitude': 6.3, 'damageAmountOrderTotal': 1, 'housesDestroyedAmountOrderTotal': 2, 'country': 'CHINA'}}], 'writeConcernErrors': [], 'nInserted': 0, 'nUpserted': 0, 'nMatched': 0, 'nModified': 0, 'nRemoved': 0, 'upserted': []}"
     ]
    }
   ],
   "source": [
    "# Insert cleaned data into a new collection\n",
    "cleaned_earthquake.insert_many(e_results)"
   ]
  },
  {
   "cell_type": "code",
   "execution_count": 76,
   "id": "394c57ce-04bb-4d4f-9aba-b95943026852",
   "metadata": {},
   "outputs": [
    {
     "data": {
      "text/plain": [
       "InsertManyResult([ObjectId('66a19ccc5a4773fdb47c0e7b'), ObjectId('66a19ccc5a4773fdb47c0e7c'), ObjectId('66a19ccc5a4773fdb47c0e7d'), ObjectId('66a19ccc5a4773fdb47c0e7e'), ObjectId('66a19ccc5a4773fdb47c0e7f'), ObjectId('66a19ccc5a4773fdb47c0e80'), ObjectId('66a19ccc5a4773fdb47c0e81'), ObjectId('66a19ccc5a4773fdb47c0e82'), ObjectId('66a19ccc5a4773fdb47c0e83'), ObjectId('66a19ccc5a4773fdb47c0e84'), ObjectId('66a19ccc5a4773fdb47c0e85'), ObjectId('66a19ccc5a4773fdb47c0e86'), ObjectId('66a19ccc5a4773fdb47c0e87'), ObjectId('66a19ccc5a4773fdb47c0e88'), ObjectId('66a19ccc5a4773fdb47c0e89'), ObjectId('66a19ccc5a4773fdb47c0e8a'), ObjectId('66a19ccc5a4773fdb47c0e8b'), ObjectId('66a19ccc5a4773fdb47c0e8c'), ObjectId('66a19ccc5a4773fdb47c0e8d'), ObjectId('66a19ccc5a4773fdb47c0e8e'), ObjectId('66a19ccc5a4773fdb47c0e8f'), ObjectId('66a19ccc5a4773fdb47c0e90'), ObjectId('66a19ccc5a4773fdb47c0e91'), ObjectId('66a19ccc5a4773fdb47c0e92'), ObjectId('66a19ccc5a4773fdb47c0e93'), ObjectId('66a19ccc5a4773fdb47c0e94'), ObjectId('66a19ccc5a4773fdb47c0e95'), ObjectId('66a19ccc5a4773fdb47c0e96'), ObjectId('66a19ccc5a4773fdb47c0e97'), ObjectId('66a19ccc5a4773fdb47c0e98'), ObjectId('66a19ccc5a4773fdb47c0e99'), ObjectId('66a19ccc5a4773fdb47c0e9a'), ObjectId('66a19ccc5a4773fdb47c0e9b'), ObjectId('66a19ccc5a4773fdb47c0e9c'), ObjectId('66a19ccc5a4773fdb47c0e9d'), ObjectId('66a19ccc5a4773fdb47c0e9e'), ObjectId('66a19ccc5a4773fdb47c0e9f'), ObjectId('66a19ccc5a4773fdb47c0ea0'), ObjectId('66a19ccc5a4773fdb47c0ea1'), ObjectId('66a19ccc5a4773fdb47c0ea2'), ObjectId('66a19ccc5a4773fdb47c0ea3'), ObjectId('66a19ccc5a4773fdb47c0ea4'), ObjectId('66a19ccc5a4773fdb47c0ea5'), ObjectId('66a19ccc5a4773fdb47c0ea6'), ObjectId('66a19ccc5a4773fdb47c0ea7'), ObjectId('66a19ccc5a4773fdb47c0ea8'), ObjectId('66a19ccc5a4773fdb47c0ea9'), ObjectId('66a19ccc5a4773fdb47c0eaa'), ObjectId('66a19ccc5a4773fdb47c0eab'), ObjectId('66a19ccc5a4773fdb47c0eac'), ObjectId('66a19ccc5a4773fdb47c0ead'), ObjectId('66a19ccc5a4773fdb47c0eae'), ObjectId('66a19ccc5a4773fdb47c0eaf'), ObjectId('66a19ccc5a4773fdb47c0eb0'), ObjectId('66a19ccc5a4773fdb47c0eb1'), ObjectId('66a19ccc5a4773fdb47c0eb2'), ObjectId('66a19ccc5a4773fdb47c0eb3'), ObjectId('66a19ccc5a4773fdb47c0eb4'), ObjectId('66a19ccc5a4773fdb47c0eb5'), ObjectId('66a19ccc5a4773fdb47c0eb6'), ObjectId('66a19ccc5a4773fdb47c0eb7'), ObjectId('66a19ccc5a4773fdb47c0eb8'), ObjectId('66a19ccc5a4773fdb47c0eb9'), ObjectId('66a19ccc5a4773fdb47c0eba'), ObjectId('66a19ccc5a4773fdb47c0ebb'), ObjectId('66a19ccc5a4773fdb47c0ebc'), ObjectId('66a19ccc5a4773fdb47c0ebd'), ObjectId('66a19ccc5a4773fdb47c0ebe'), ObjectId('66a19ccc5a4773fdb47c0ebf'), ObjectId('66a19ccc5a4773fdb47c0ec0'), ObjectId('66a19ccc5a4773fdb47c0ec1'), ObjectId('66a19ccc5a4773fdb47c0ec2'), ObjectId('66a19ccc5a4773fdb47c0ec3'), ObjectId('66a19ccc5a4773fdb47c0ec4'), ObjectId('66a19ccc5a4773fdb47c0ec5'), ObjectId('66a19ccc5a4773fdb47c0ec6'), ObjectId('66a19ccc5a4773fdb47c0ec7'), ObjectId('66a19ccc5a4773fdb47c0ec8'), ObjectId('66a19ccc5a4773fdb47c0ec9'), ObjectId('66a19ccc5a4773fdb47c0eca'), ObjectId('66a19ccc5a4773fdb47c0ecb'), ObjectId('66a19ccc5a4773fdb47c0ecc'), ObjectId('66a19ccc5a4773fdb47c0ecd'), ObjectId('66a19ccc5a4773fdb47c0ece'), ObjectId('66a19ccc5a4773fdb47c0ecf'), ObjectId('66a19ccc5a4773fdb47c0ed0'), ObjectId('66a19ccc5a4773fdb47c0ed1'), ObjectId('66a19ccc5a4773fdb47c0ed2'), ObjectId('66a19ccc5a4773fdb47c0ed3'), ObjectId('66a19ccc5a4773fdb47c0ed4'), ObjectId('66a19ccc5a4773fdb47c0ed5'), ObjectId('66a19ccc5a4773fdb47c0ed6'), ObjectId('66a19ccc5a4773fdb47c0ed7'), ObjectId('66a19ccc5a4773fdb47c0ed8'), ObjectId('66a19ccc5a4773fdb47c0ed9'), ObjectId('66a19ccc5a4773fdb47c0eda'), ObjectId('66a19ccc5a4773fdb47c0edb'), ObjectId('66a19ccc5a4773fdb47c0edc'), ObjectId('66a19ccc5a4773fdb47c0edd'), ObjectId('66a19ccc5a4773fdb47c0ede'), ObjectId('66a19ccc5a4773fdb47c0edf'), ObjectId('66a19ccc5a4773fdb47c0ee0'), ObjectId('66a19ccc5a4773fdb47c0ee1'), ObjectId('66a19ccc5a4773fdb47c0ee2'), ObjectId('66a19ccc5a4773fdb47c0ee3'), ObjectId('66a19ccc5a4773fdb47c0ee4'), ObjectId('66a19ccc5a4773fdb47c0ee5'), ObjectId('66a19ccc5a4773fdb47c0ee6'), ObjectId('66a19ccc5a4773fdb47c0ee7'), ObjectId('66a19ccc5a4773fdb47c0ee8'), ObjectId('66a19ccc5a4773fdb47c0ee9'), ObjectId('66a19ccc5a4773fdb47c0eea'), ObjectId('66a19ccc5a4773fdb47c0eeb'), ObjectId('66a19ccc5a4773fdb47c0eec'), ObjectId('66a19ccc5a4773fdb47c0eed'), ObjectId('66a19ccc5a4773fdb47c0eee'), ObjectId('66a19ccc5a4773fdb47c0eef'), ObjectId('66a19ccc5a4773fdb47c0ef0'), ObjectId('66a19ccc5a4773fdb47c0ef1'), ObjectId('66a19ccc5a4773fdb47c0ef2'), ObjectId('66a19ccc5a4773fdb47c0ef3'), ObjectId('66a19ccc5a4773fdb47c0ef4'), ObjectId('66a19ccc5a4773fdb47c0ef5'), ObjectId('66a19ccc5a4773fdb47c0ef6'), ObjectId('66a19ccc5a4773fdb47c0ef7'), ObjectId('66a19ccc5a4773fdb47c0ef8'), ObjectId('66a19ccc5a4773fdb47c0ef9'), ObjectId('66a19ccc5a4773fdb47c0efa'), ObjectId('66a19ccc5a4773fdb47c0efb'), ObjectId('66a19ccc5a4773fdb47c0efc'), ObjectId('66a19ccc5a4773fdb47c0efd'), ObjectId('66a19ccc5a4773fdb47c0efe'), ObjectId('66a19ccc5a4773fdb47c0eff'), ObjectId('66a19ccc5a4773fdb47c0f00'), ObjectId('66a19ccc5a4773fdb47c0f01'), ObjectId('66a19ccc5a4773fdb47c0f02'), ObjectId('66a19ccc5a4773fdb47c0f03'), ObjectId('66a19ccc5a4773fdb47c0f04'), ObjectId('66a19ccc5a4773fdb47c0f05'), ObjectId('66a19ccc5a4773fdb47c0f06'), ObjectId('66a19ccc5a4773fdb47c0f07')], acknowledged=True)"
      ]
     },
     "execution_count": 76,
     "metadata": {},
     "output_type": "execute_result"
    }
   ],
   "source": [
    "cleaned_volcano.insert_many(v_results)"
   ]
  },
  {
   "cell_type": "code",
   "execution_count": 77,
   "id": "be40edb3-7025-443a-b70b-c921b201e361",
   "metadata": {},
   "outputs": [
    {
     "data": {
      "text/plain": [
       "InsertManyResult([ObjectId('66a19d12b6b79ae31b0d88f1'), ObjectId('66a19d12b6b79ae31b0d88f2'), ObjectId('66a19d12b6b79ae31b0d88f3'), ObjectId('66a19d12b6b79ae31b0d88f4'), ObjectId('66a19d12b6b79ae31b0d88f5'), ObjectId('66a19d12b6b79ae31b0d88f6'), ObjectId('66a19d12b6b79ae31b0d88f7'), ObjectId('66a19d12b6b79ae31b0d88f8'), ObjectId('66a19d12b6b79ae31b0d88f9'), ObjectId('66a19d12b6b79ae31b0d88fa'), ObjectId('66a19d12b6b79ae31b0d88fb'), ObjectId('66a19d12b6b79ae31b0d88fc'), ObjectId('66a19d12b6b79ae31b0d88fd'), ObjectId('66a19d12b6b79ae31b0d88fe'), ObjectId('66a19d12b6b79ae31b0d88ff'), ObjectId('66a19d12b6b79ae31b0d8900'), ObjectId('66a19d12b6b79ae31b0d8901'), ObjectId('66a19d12b6b79ae31b0d8902'), ObjectId('66a19d12b6b79ae31b0d8903'), ObjectId('66a19d12b6b79ae31b0d8904'), ObjectId('66a19d12b6b79ae31b0d8905'), ObjectId('66a19d12b6b79ae31b0d8906'), ObjectId('66a19d12b6b79ae31b0d8907'), ObjectId('66a19d12b6b79ae31b0d8908'), ObjectId('66a19d12b6b79ae31b0d8909'), ObjectId('66a19d12b6b79ae31b0d890a'), ObjectId('66a19d12b6b79ae31b0d890b'), ObjectId('66a19d12b6b79ae31b0d890c'), ObjectId('66a19d12b6b79ae31b0d890d'), ObjectId('66a19d12b6b79ae31b0d890e'), ObjectId('66a19d12b6b79ae31b0d890f'), ObjectId('66a19d12b6b79ae31b0d8910'), ObjectId('66a19d12b6b79ae31b0d8911'), ObjectId('66a19d12b6b79ae31b0d8912'), ObjectId('66a19d12b6b79ae31b0d8913'), ObjectId('66a19d12b6b79ae31b0d8914'), ObjectId('66a19d12b6b79ae31b0d8915'), ObjectId('66a19d12b6b79ae31b0d8916'), ObjectId('66a19d12b6b79ae31b0d8917'), ObjectId('66a19d12b6b79ae31b0d8918'), ObjectId('66a19d12b6b79ae31b0d8919'), ObjectId('66a19d12b6b79ae31b0d891a'), ObjectId('66a19d12b6b79ae31b0d891b'), ObjectId('66a19d12b6b79ae31b0d891c'), ObjectId('66a19d12b6b79ae31b0d891d'), ObjectId('66a19d12b6b79ae31b0d891e'), ObjectId('66a19d12b6b79ae31b0d891f'), ObjectId('66a19d12b6b79ae31b0d8920'), ObjectId('66a19d12b6b79ae31b0d8921'), ObjectId('66a19d12b6b79ae31b0d8922'), ObjectId('66a19d12b6b79ae31b0d8923'), ObjectId('66a19d12b6b79ae31b0d8924'), ObjectId('66a19d12b6b79ae31b0d8925'), ObjectId('66a19d12b6b79ae31b0d8926'), ObjectId('66a19d12b6b79ae31b0d8927'), ObjectId('66a19d12b6b79ae31b0d8928'), ObjectId('66a19d12b6b79ae31b0d8929'), ObjectId('66a19d12b6b79ae31b0d892a'), ObjectId('66a19d12b6b79ae31b0d892b'), ObjectId('66a19d12b6b79ae31b0d892c'), ObjectId('66a19d12b6b79ae31b0d892d'), ObjectId('66a19d12b6b79ae31b0d892e'), ObjectId('66a19d12b6b79ae31b0d892f'), ObjectId('66a19d12b6b79ae31b0d8930'), ObjectId('66a19d12b6b79ae31b0d8931'), ObjectId('66a19d12b6b79ae31b0d8932'), ObjectId('66a19d12b6b79ae31b0d8933'), ObjectId('66a19d12b6b79ae31b0d8934'), ObjectId('66a19d12b6b79ae31b0d8935'), ObjectId('66a19d12b6b79ae31b0d8936'), ObjectId('66a19d12b6b79ae31b0d8937'), ObjectId('66a19d12b6b79ae31b0d8938'), ObjectId('66a19d12b6b79ae31b0d8939'), ObjectId('66a19d12b6b79ae31b0d893a'), ObjectId('66a19d12b6b79ae31b0d893b'), ObjectId('66a19d12b6b79ae31b0d893c'), ObjectId('66a19d12b6b79ae31b0d893d'), ObjectId('66a19d12b6b79ae31b0d893e'), ObjectId('66a19d12b6b79ae31b0d893f'), ObjectId('66a19d12b6b79ae31b0d8940'), ObjectId('66a19d12b6b79ae31b0d8941'), ObjectId('66a19d12b6b79ae31b0d8942'), ObjectId('66a19d12b6b79ae31b0d8943'), ObjectId('66a19d12b6b79ae31b0d8944'), ObjectId('66a19d12b6b79ae31b0d8945'), ObjectId('66a19d12b6b79ae31b0d8946'), ObjectId('66a19d12b6b79ae31b0d8947'), ObjectId('66a19d12b6b79ae31b0d8948'), ObjectId('66a19d12b6b79ae31b0d8949'), ObjectId('66a19d12b6b79ae31b0d894a'), ObjectId('66a19d12b6b79ae31b0d894b'), ObjectId('66a19d12b6b79ae31b0d894c'), ObjectId('66a19d12b6b79ae31b0d894d'), ObjectId('66a19d12b6b79ae31b0d894e'), ObjectId('66a19d12b6b79ae31b0d894f'), ObjectId('66a19d12b6b79ae31b0d8950'), ObjectId('66a19d12b6b79ae31b0d8951'), ObjectId('66a19d12b6b79ae31b0d8952'), ObjectId('66a19d12b6b79ae31b0d8953'), ObjectId('66a19d12b6b79ae31b0d8954'), ObjectId('66a19d12b6b79ae31b0d8955'), ObjectId('66a19d12b6b79ae31b0d8956'), ObjectId('66a19d12b6b79ae31b0d8957'), ObjectId('66a19d12b6b79ae31b0d8958'), ObjectId('66a19d12b6b79ae31b0d8959'), ObjectId('66a19d12b6b79ae31b0d895a'), ObjectId('66a19d12b6b79ae31b0d895b'), ObjectId('66a19d12b6b79ae31b0d895c'), ObjectId('66a19d12b6b79ae31b0d895d'), ObjectId('66a19d12b6b79ae31b0d895e'), ObjectId('66a19d12b6b79ae31b0d895f'), ObjectId('66a19d12b6b79ae31b0d8960'), ObjectId('66a19d12b6b79ae31b0d8961'), ObjectId('66a19d12b6b79ae31b0d8962'), ObjectId('66a19d12b6b79ae31b0d8963'), ObjectId('66a19d12b6b79ae31b0d8964'), ObjectId('66a19d12b6b79ae31b0d8965'), ObjectId('66a19d12b6b79ae31b0d8966'), ObjectId('66a19d12b6b79ae31b0d8967'), ObjectId('66a19d12b6b79ae31b0d8968'), ObjectId('66a19d12b6b79ae31b0d8969'), ObjectId('66a19d12b6b79ae31b0d896a'), ObjectId('66a19d12b6b79ae31b0d896b'), ObjectId('66a19d12b6b79ae31b0d896c'), ObjectId('66a19d12b6b79ae31b0d896d'), ObjectId('66a19d12b6b79ae31b0d896e'), ObjectId('66a19d12b6b79ae31b0d896f'), ObjectId('66a19d12b6b79ae31b0d8970'), ObjectId('66a19d12b6b79ae31b0d8971'), ObjectId('66a19d12b6b79ae31b0d8972'), ObjectId('66a19d12b6b79ae31b0d8973'), ObjectId('66a19d12b6b79ae31b0d8974'), ObjectId('66a19d12b6b79ae31b0d8975'), ObjectId('66a19d12b6b79ae31b0d8976'), ObjectId('66a19d12b6b79ae31b0d8977'), ObjectId('66a19d12b6b79ae31b0d8978'), ObjectId('66a19d12b6b79ae31b0d8979'), ObjectId('66a19d12b6b79ae31b0d897a'), ObjectId('66a19d12b6b79ae31b0d897b'), ObjectId('66a19d12b6b79ae31b0d897c'), ObjectId('66a19d12b6b79ae31b0d897d'), ObjectId('66a19d12b6b79ae31b0d897e'), ObjectId('66a19d12b6b79ae31b0d897f'), ObjectId('66a19d12b6b79ae31b0d8980'), ObjectId('66a19d12b6b79ae31b0d8981'), ObjectId('66a19d12b6b79ae31b0d8982'), ObjectId('66a19d12b6b79ae31b0d8983'), ObjectId('66a19d12b6b79ae31b0d8984'), ObjectId('66a19d12b6b79ae31b0d8985'), ObjectId('66a19d12b6b79ae31b0d8986'), ObjectId('66a19d12b6b79ae31b0d8987'), ObjectId('66a19d12b6b79ae31b0d8988'), ObjectId('66a19d12b6b79ae31b0d8989'), ObjectId('66a19d12b6b79ae31b0d898a'), ObjectId('66a19d12b6b79ae31b0d898b'), ObjectId('66a19d12b6b79ae31b0d898c'), ObjectId('66a19d12b6b79ae31b0d898d'), ObjectId('66a19d12b6b79ae31b0d898e'), ObjectId('66a19d12b6b79ae31b0d898f'), ObjectId('66a19d12b6b79ae31b0d8990'), ObjectId('66a19d12b6b79ae31b0d8991'), ObjectId('66a19d12b6b79ae31b0d8992'), ObjectId('66a19d12b6b79ae31b0d8993'), ObjectId('66a19d12b6b79ae31b0d8994'), ObjectId('66a19d12b6b79ae31b0d8995'), ObjectId('66a19d12b6b79ae31b0d8996'), ObjectId('66a19d12b6b79ae31b0d8997'), ObjectId('66a19d12b6b79ae31b0d8998'), ObjectId('66a19d12b6b79ae31b0d8999'), ObjectId('66a19d12b6b79ae31b0d899a'), ObjectId('66a19d12b6b79ae31b0d899b'), ObjectId('66a19d12b6b79ae31b0d899c'), ObjectId('66a19d12b6b79ae31b0d899d'), ObjectId('66a19d12b6b79ae31b0d899e'), ObjectId('66a19d12b6b79ae31b0d899f'), ObjectId('66a19d12b6b79ae31b0d89a0'), ObjectId('66a19d12b6b79ae31b0d89a1'), ObjectId('66a19d12b6b79ae31b0d89a2'), ObjectId('66a19d12b6b79ae31b0d89a3'), ObjectId('66a19d12b6b79ae31b0d89a4'), ObjectId('66a19d12b6b79ae31b0d89a5'), ObjectId('66a19d12b6b79ae31b0d89a6'), ObjectId('66a19d12b6b79ae31b0d89a7'), ObjectId('66a19d12b6b79ae31b0d89a8'), ObjectId('66a19d12b6b79ae31b0d89a9'), ObjectId('66a19d12b6b79ae31b0d89aa'), ObjectId('66a19d12b6b79ae31b0d89ab'), ObjectId('66a19d12b6b79ae31b0d89ac'), ObjectId('66a19d12b6b79ae31b0d89ad'), ObjectId('66a19d12b6b79ae31b0d89ae'), ObjectId('66a19d12b6b79ae31b0d89af'), ObjectId('66a19d12b6b79ae31b0d89b0'), ObjectId('66a19d12b6b79ae31b0d89b1'), ObjectId('66a19d12b6b79ae31b0d89b2'), ObjectId('66a19d12b6b79ae31b0d89b3'), ObjectId('66a19d12b6b79ae31b0d89b4'), ObjectId('66a19d12b6b79ae31b0d89b5'), ObjectId('66a19d12b6b79ae31b0d89b6'), ObjectId('66a19d12b6b79ae31b0d89b7'), ObjectId('66a19d12b6b79ae31b0d89b8'), ObjectId('66a19d12b6b79ae31b0d89b9'), ObjectId('66a19d12b6b79ae31b0d89ba'), ObjectId('66a19d12b6b79ae31b0d89bb'), ObjectId('66a19d12b6b79ae31b0d89bc'), ObjectId('66a19d12b6b79ae31b0d89bd'), ObjectId('66a19d12b6b79ae31b0d89be'), ObjectId('66a19d12b6b79ae31b0d89bf'), ObjectId('66a19d12b6b79ae31b0d89c0'), ObjectId('66a19d12b6b79ae31b0d89c1'), ObjectId('66a19d12b6b79ae31b0d89c2'), ObjectId('66a19d12b6b79ae31b0d89c3'), ObjectId('66a19d12b6b79ae31b0d89c4'), ObjectId('66a19d12b6b79ae31b0d89c5'), ObjectId('66a19d12b6b79ae31b0d89c6'), ObjectId('66a19d12b6b79ae31b0d89c7'), ObjectId('66a19d12b6b79ae31b0d89c8'), ObjectId('66a19d12b6b79ae31b0d89c9'), ObjectId('66a19d12b6b79ae31b0d89ca'), ObjectId('66a19d12b6b79ae31b0d89cb'), ObjectId('66a19d12b6b79ae31b0d89cc'), ObjectId('66a19d12b6b79ae31b0d89cd'), ObjectId('66a19d12b6b79ae31b0d89ce'), ObjectId('66a19d12b6b79ae31b0d89cf'), ObjectId('66a19d12b6b79ae31b0d89d0'), ObjectId('66a19d12b6b79ae31b0d89d1'), ObjectId('66a19d12b6b79ae31b0d89d2'), ObjectId('66a19d12b6b79ae31b0d89d3'), ObjectId('66a19d12b6b79ae31b0d89d4'), ObjectId('66a19d12b6b79ae31b0d89d5'), ObjectId('66a19d12b6b79ae31b0d89d6'), ObjectId('66a19d12b6b79ae31b0d89d7'), ObjectId('66a19d12b6b79ae31b0d89d8'), ObjectId('66a19d12b6b79ae31b0d89d9'), ObjectId('66a19d12b6b79ae31b0d89da'), ObjectId('66a19d12b6b79ae31b0d89db'), ObjectId('66a19d12b6b79ae31b0d89dc'), ObjectId('66a19d12b6b79ae31b0d89dd'), ObjectId('66a19d12b6b79ae31b0d89de'), ObjectId('66a19d12b6b79ae31b0d89df'), ObjectId('66a19d12b6b79ae31b0d89e0'), ObjectId('66a19d12b6b79ae31b0d89e1'), ObjectId('66a19d12b6b79ae31b0d89e2'), ObjectId('66a19d12b6b79ae31b0d89e3'), ObjectId('66a19d12b6b79ae31b0d89e4'), ObjectId('66a19d12b6b79ae31b0d89e5'), ObjectId('66a19d12b6b79ae31b0d89e6'), ObjectId('66a19d12b6b79ae31b0d89e7'), ObjectId('66a19d12b6b79ae31b0d89e8'), ObjectId('66a19d12b6b79ae31b0d89e9'), ObjectId('66a19d12b6b79ae31b0d89ea'), ObjectId('66a19d12b6b79ae31b0d89eb'), ObjectId('66a19d12b6b79ae31b0d89ec'), ObjectId('66a19d12b6b79ae31b0d89ed'), ObjectId('66a19d12b6b79ae31b0d89ee'), ObjectId('66a19d12b6b79ae31b0d89ef'), ObjectId('66a19d12b6b79ae31b0d89f0'), ObjectId('66a19d12b6b79ae31b0d89f1'), ObjectId('66a19d12b6b79ae31b0d89f2'), ObjectId('66a19d12b6b79ae31b0d89f3'), ObjectId('66a19d12b6b79ae31b0d89f4'), ObjectId('66a19d12b6b79ae31b0d89f5'), ObjectId('66a19d12b6b79ae31b0d89f6'), ObjectId('66a19d12b6b79ae31b0d89f7'), ObjectId('66a19d12b6b79ae31b0d89f8'), ObjectId('66a19d12b6b79ae31b0d89f9'), ObjectId('66a19d12b6b79ae31b0d89fa'), ObjectId('66a19d12b6b79ae31b0d89fb'), ObjectId('66a19d12b6b79ae31b0d89fc'), ObjectId('66a19d12b6b79ae31b0d89fd'), ObjectId('66a19d12b6b79ae31b0d89fe'), ObjectId('66a19d12b6b79ae31b0d89ff'), ObjectId('66a19d12b6b79ae31b0d8a00'), ObjectId('66a19d12b6b79ae31b0d8a01'), ObjectId('66a19d12b6b79ae31b0d8a02'), ObjectId('66a19d12b6b79ae31b0d8a03'), ObjectId('66a19d12b6b79ae31b0d8a04'), ObjectId('66a19d12b6b79ae31b0d8a05'), ObjectId('66a19d12b6b79ae31b0d8a06'), ObjectId('66a19d12b6b79ae31b0d8a07'), ObjectId('66a19d12b6b79ae31b0d8a08'), ObjectId('66a19d12b6b79ae31b0d8a09'), ObjectId('66a19d12b6b79ae31b0d8a0a'), ObjectId('66a19d12b6b79ae31b0d8a0b'), ObjectId('66a19d12b6b79ae31b0d8a0c'), ObjectId('66a19d12b6b79ae31b0d8a0d'), ObjectId('66a19d12b6b79ae31b0d8a0e'), ObjectId('66a19d12b6b79ae31b0d8a0f'), ObjectId('66a19d12b6b79ae31b0d8a10'), ObjectId('66a19d12b6b79ae31b0d8a11'), ObjectId('66a19d12b6b79ae31b0d8a12'), ObjectId('66a19d12b6b79ae31b0d8a13'), ObjectId('66a19d12b6b79ae31b0d8a14'), ObjectId('66a19d12b6b79ae31b0d8a15'), ObjectId('66a19d12b6b79ae31b0d8a16'), ObjectId('66a19d12b6b79ae31b0d8a17'), ObjectId('66a19d12b6b79ae31b0d8a18'), ObjectId('66a19d12b6b79ae31b0d8a19'), ObjectId('66a19d12b6b79ae31b0d8a1a'), ObjectId('66a19d12b6b79ae31b0d8a1b'), ObjectId('66a19d12b6b79ae31b0d8a1c'), ObjectId('66a19d12b6b79ae31b0d8a1d'), ObjectId('66a19d12b6b79ae31b0d8a1e'), ObjectId('66a19d12b6b79ae31b0d8a1f'), ObjectId('66a19d12b6b79ae31b0d8a20'), ObjectId('66a19d12b6b79ae31b0d8a21'), ObjectId('66a19d12b6b79ae31b0d8a22'), ObjectId('66a19d12b6b79ae31b0d8a23'), ObjectId('66a19d12b6b79ae31b0d8a24'), ObjectId('66a19d12b6b79ae31b0d8a25'), ObjectId('66a19d12b6b79ae31b0d8a26'), ObjectId('66a19d12b6b79ae31b0d8a27'), ObjectId('66a19d12b6b79ae31b0d8a28'), ObjectId('66a19d12b6b79ae31b0d8a29'), ObjectId('66a19d12b6b79ae31b0d8a2a'), ObjectId('66a19d12b6b79ae31b0d8a2b'), ObjectId('66a19d12b6b79ae31b0d8a2c'), ObjectId('66a19d12b6b79ae31b0d8a2d'), ObjectId('66a19d12b6b79ae31b0d8a2e'), ObjectId('66a19d12b6b79ae31b0d8a2f'), ObjectId('66a19d12b6b79ae31b0d8a30'), ObjectId('66a19d12b6b79ae31b0d8a31'), ObjectId('66a19d12b6b79ae31b0d8a32'), ObjectId('66a19d12b6b79ae31b0d8a33'), ObjectId('66a19d12b6b79ae31b0d8a34'), ObjectId('66a19d12b6b79ae31b0d8a35'), ObjectId('66a19d12b6b79ae31b0d8a36'), ObjectId('66a19d12b6b79ae31b0d8a37'), ObjectId('66a19d12b6b79ae31b0d8a38'), ObjectId('66a19d12b6b79ae31b0d8a39'), ObjectId('66a19d12b6b79ae31b0d8a3a'), ObjectId('66a19d12b6b79ae31b0d8a3b'), ObjectId('66a19d12b6b79ae31b0d8a3c'), ObjectId('66a19d12b6b79ae31b0d8a3d'), ObjectId('66a19d12b6b79ae31b0d8a3e'), ObjectId('66a19d12b6b79ae31b0d8a3f'), ObjectId('66a19d12b6b79ae31b0d8a40'), ObjectId('66a19d12b6b79ae31b0d8a41'), ObjectId('66a19d12b6b79ae31b0d8a42'), ObjectId('66a19d12b6b79ae31b0d8a43'), ObjectId('66a19d12b6b79ae31b0d8a44'), ObjectId('66a19d12b6b79ae31b0d8a45'), ObjectId('66a19d12b6b79ae31b0d8a46'), ObjectId('66a19d12b6b79ae31b0d8a47'), ObjectId('66a19d12b6b79ae31b0d8a48'), ObjectId('66a19d12b6b79ae31b0d8a49'), ObjectId('66a19d12b6b79ae31b0d8a4a'), ObjectId('66a19d12b6b79ae31b0d8a4b'), ObjectId('66a19d12b6b79ae31b0d8a4c'), ObjectId('66a19d12b6b79ae31b0d8a4d'), ObjectId('66a19d12b6b79ae31b0d8a4e'), ObjectId('66a19d12b6b79ae31b0d8a4f'), ObjectId('66a19d12b6b79ae31b0d8a50'), ObjectId('66a19d12b6b79ae31b0d8a51'), ObjectId('66a19d12b6b79ae31b0d8a52'), ObjectId('66a19d12b6b79ae31b0d8a53'), ObjectId('66a19d12b6b79ae31b0d8a54'), ObjectId('66a19d12b6b79ae31b0d8a55'), ObjectId('66a19d12b6b79ae31b0d8a56'), ObjectId('66a19d12b6b79ae31b0d8a57'), ObjectId('66a19d12b6b79ae31b0d8a58')], acknowledged=True)"
      ]
     },
     "execution_count": 77,
     "metadata": {},
     "output_type": "execute_result"
    }
   ],
   "source": [
    "cleaned_tsunami.insert_many(t_results)"
   ]
  },
  {
   "cell_type": "code",
   "execution_count": null,
   "id": "b60bbbc2-8d12-4b89-a400-2d93608853a1",
   "metadata": {},
   "outputs": [],
   "source": []
  }
 ],
 "metadata": {
  "kernelspec": {
   "display_name": "Python 3 (ipykernel)",
   "language": "python",
   "name": "python3"
  },
  "language_info": {
   "codemirror_mode": {
    "name": "ipython",
    "version": 3
   },
   "file_extension": ".py",
   "mimetype": "text/x-python",
   "name": "python",
   "nbconvert_exporter": "python",
   "pygments_lexer": "ipython3",
   "version": "3.10.14"
  }
 },
 "nbformat": 4,
 "nbformat_minor": 5
}
